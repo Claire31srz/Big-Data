{
  "nbformat": 4,
  "nbformat_minor": 0,
  "metadata": {
    "kernelspec": {
      "display_name": "Python 2",
      "language": "python",
      "name": "python2"
    },
    "language_info": {
      "mimetype": "text/x-python",
      "name": "python",
      "pygments_lexer": "ipython2",
      "codemirror_mode": {
        "name": "ipython",
        "version": 2
      },
      "version": "2.7.9",
      "nbconvert_exporter": "python",
      "file_extension": ".py"
    },
    "name": "1-python",
    "notebookId": 3047179637077656,
    "colab": {
      "name": "Lab 1.ipynb",
      "provenance": [],
      "collapsed_sections": []
    }
  },
  "cells": [
    {
      "cell_type": "markdown",
      "metadata": {
        "id": "UsbuB0aetRGj"
      },
      "source": [
        "# Notebook 1: Python Overview\n",
        "\n",
        "## Motivations\n",
        "\n",
        "Spark provides multiple *Application Programming Interfaces* (API), i.e. the interface allowing the user to interact with the application. The main APIs are [Scala](http://spark.apache.org/docs/latest/api/scala/index.html#org.apache.spark.package) and [Java](http://spark.apache.org/docs/latest/api/java/index.html) APIs, as Spark is implemented in Scala and runs on the Java Virtual Machine (JVM).\n",
        "Since the 0.7.0 version, a [Python API](http://spark.apache.org/docs/latest/api/python/index.html) is available, also known as PySpark. An [R API](http://spark.apache.org/docs/latest/api/R/index.html) has been released with 1.5.0 version. During this course, you will be using Spark 2.4.4.\n",
        "\n",
        "Throughout this course we will use the Python API for the following reasons:\n",
        "- R API is still too young and limited to be relied on. Besides, R can quickly become a living hell when using immature libraries.\n",
        "- Many of you are wanabee datascientists, and Python is a must-know language in data industry.\n",
        "- Scala and Java APIs would have been quite hard to learn given the length of the course and your actual programming skills.\n",
        "- Python is easy to learn, and even easier if you are already familiar with R.\n",
        "\n",
        "The goal of this session is to teach (or remind) you the syntax of basic operations, control structures and declarations in Python that will be useful as datascientist. Keep in mind that we do not have a lot of time, and that you should be able to create functions and classes and to manipulate them at the end of the lab. If you don't get that, the rest of the course will be hard to follow. Don't hesitate to ask for explanations and/or more exercises if you don't feel  confident enough at the end of the lab.\n",
        "\n",
        "**Note:** Python comes in two flavours, Python 2 and Python 3. Python 2 is now officially deprecated so there is no longer any support. However, a lot of companies have still a lot of code in Python 2 (Tensorflow only supports python 3 since 2019 and Google is well known for his extensive use of Python 2). In this course, we will use Python 3 rather than Python 2. Note that if you know Python 2, learning Python 3 will be lightning-fast.\n",
        "For those who are interested, you can quickly learn Python 3 syntax [over here](https://learnxinyminutes.com/docs/python3/) or find some [cheatsheets](http://ptgmedia.pearsoncmg.com/imprint_downloads/informit/promotions/python/python2python3.pdf) highlighting the differences between the two versions. Spark Python API is compatible with Python 3 since Spark 1.4.0.\n",
        "\n",
        "When you look at stackoverflow, please be aware that they might share snippets of code in another python version and that you might need to translate them. So no stupid copy-paste.\n",
        "\n",
        "*This introduction relies on [Learn Python in Y minutes](https://learnxinyminutes.com/docs/python/)*\n",
        "\n",
        "## Introduction\n",
        "\n",
        "Python is a high level, general-purpose interpreted language. Python is meant to be very concise and readable, it is thus a very pleasant language to work with. \n",
        "\n",
        "## 1. Primitive Datatypes and Operators\n",
        "Read section 1 of [Learn python in Y Minutes](https://learnxinyminutes.com/docs/python/) (if you already know Python, you can skip this step). Then, replace `???` in the following cells with your code to answer the questions. To get started, please run the following cell."
      ]
    },
    {
      "cell_type": "markdown",
      "metadata": {
        "id": "xaJAXdwatRHB"
      },
      "source": [
        "Compute 4 + 8"
      ]
    },
    {
      "cell_type": "code",
      "execution_count": 1,
      "metadata": {
        "colab": {
          "base_uri": "https://localhost:8080/"
        },
        "id": "kxvDBoUltRHD",
        "outputId": "ef00421b-07ce-46e9-db9c-cfa9265dbcf9"
      },
      "outputs": [
        {
          "output_type": "execute_result",
          "data": {
            "text/plain": [
              "12"
            ]
          },
          "metadata": {},
          "execution_count": 1
        }
      ],
      "source": [
        "4+8"
      ]
    },
    {
      "cell_type": "markdown",
      "metadata": {
        "id": "uumGlRjUtRHQ"
      },
      "source": [
        "Compute 4 * 8"
      ]
    },
    {
      "cell_type": "code",
      "execution_count": 2,
      "metadata": {
        "colab": {
          "base_uri": "https://localhost:8080/"
        },
        "id": "V88uqJeatRHS",
        "outputId": "7d1c48ca-677b-4f5f-834b-b975ecc7f087"
      },
      "outputs": [
        {
          "output_type": "execute_result",
          "data": {
            "text/plain": [
              "32"
            ]
          },
          "metadata": {},
          "execution_count": 2
        }
      ],
      "source": [
        "4*8"
      ]
    },
    {
      "cell_type": "markdown",
      "metadata": {
        "id": "iFsOahCatRHd"
      },
      "source": [
        "Compute 4 / 8 (using the regular division operation, not integer division)"
      ]
    },
    {
      "cell_type": "code",
      "execution_count": 3,
      "metadata": {
        "colab": {
          "base_uri": "https://localhost:8080/"
        },
        "id": "TolXN7L5tRHg",
        "outputId": "95593288-d3cb-4bd3-bfe4-e3114602b878"
      },
      "outputs": [
        {
          "output_type": "execute_result",
          "data": {
            "text/plain": [
              "0.5"
            ]
          },
          "metadata": {},
          "execution_count": 3
        }
      ],
      "source": [
        "4/8"
      ]
    },
    {
      "cell_type": "markdown",
      "metadata": {
        "id": "fmdxoyn_nBAV"
      },
      "source": [
        "Compute $4^8$"
      ]
    },
    {
      "cell_type": "code",
      "execution_count": 4,
      "metadata": {
        "colab": {
          "base_uri": "https://localhost:8080/"
        },
        "id": "yAQR-Kd7nBAW",
        "outputId": "a42d9b3a-1b2d-41f0-b8c3-d42eeee60add"
      },
      "outputs": [
        {
          "output_type": "execute_result",
          "data": {
            "text/plain": [
              "65536"
            ]
          },
          "metadata": {},
          "execution_count": 4
        }
      ],
      "source": [
        "4**8"
      ]
    },
    {
      "cell_type": "markdown",
      "metadata": {
        "id": "BDOxUKpjtRHy"
      },
      "source": [
        "Check if the variable `foo` is None:"
      ]
    },
    {
      "cell_type": "code",
      "execution_count": 5,
      "metadata": {
        "colab": {
          "base_uri": "https://localhost:8080/"
        },
        "id": "1KIB_tlwtRH0",
        "outputId": "823547fe-b286-4132-e1ad-2f355b51333d"
      },
      "outputs": [
        {
          "output_type": "stream",
          "name": "stdout",
          "text": [
            "None\n"
          ]
        }
      ],
      "source": [
        "foo = None\n",
        "print(foo)"
      ]
    },
    {
      "cell_type": "markdown",
      "metadata": {
        "collapsed": true,
        "id": "t1lgdo-BtRH-"
      },
      "source": [
        "## 2. Variables and Collections\n",
        "Same as before, read the corresponding section, and answer the questions below.\n",
        "\n",
        "Now you're asked to `print` your results instead of just output them.\n",
        "\n",
        "Please always remember that there is a difference between the output of your code (which is the result of the last executed line) and the printed output."
      ]
    },
    {
      "cell_type": "code",
      "execution_count": 6,
      "metadata": {
        "colab": {
          "base_uri": "https://localhost:8080/",
          "height": 54
        },
        "id": "0-IcsTngnBAY",
        "outputId": "b542caf9-edc5-4915-806a-37607778d409"
      },
      "outputs": [
        {
          "output_type": "stream",
          "name": "stdout",
          "text": [
            "This is a text\n"
          ]
        },
        {
          "output_type": "execute_result",
          "data": {
            "application/vnd.google.colaboratory.intrinsic+json": {
              "type": "string"
            },
            "text/plain": [
              "'This is another text'"
            ]
          },
          "metadata": {},
          "execution_count": 6
        }
      ],
      "source": [
        "txt = \"This is a text\"\n",
        "print(txt)\n",
        "new_txt = \"This is another text\" # assignment doesn't return anything\n",
        "# Try uncommenting the following lines to check your understanding\n",
        "txt # return the value of txt\n",
        "new_txt # return the value of new_txt"
      ]
    },
    {
      "cell_type": "code",
      "execution_count": 7,
      "metadata": {
        "colab": {
          "base_uri": "https://localhost:8080/"
        },
        "id": "4HRJAJZTtRH_",
        "outputId": "14c4e827-8441-4feb-d5fb-6dc6945fd71a"
      },
      "outputs": [
        {
          "output_type": "stream",
          "name": "stdout",
          "text": [
            "1\n"
          ]
        }
      ],
      "source": [
        "# Declare a variable containing a float of your choice and print it\n",
        "# From now on, when you will be asked to print something, please use the print statement.\n",
        "a = 1\n",
        "print(a)"
      ]
    },
    {
      "cell_type": "code",
      "execution_count": 8,
      "metadata": {
        "colab": {
          "base_uri": "https://localhost:8080/"
        },
        "id": "baIJHJcytRIF",
        "outputId": "50b1a8ce-08aa-4565-d396-deef4c2cd91b"
      },
      "outputs": [
        {
          "output_type": "stream",
          "name": "stdout",
          "text": [
            "[1, 2, 3, 'test', 4]\n"
          ]
        }
      ],
      "source": [
        "# Create a list containing strings and store it in a variable\n",
        "l=[1,2,3]\n",
        "# Append a new string to this list\n",
        "l.append('test')\n",
        "# Append an integer to this list and print it\n",
        "l.append(4)\n",
        "print(l)"
      ]
    },
    {
      "cell_type": "markdown",
      "metadata": {
        "id": "JvyO8q5AtRIM"
      },
      "source": [
        "Note that the modifications on list objects are performed inplace, i.e.\n",
        "\n",
        "    li = [1, 2, 3]\n",
        "    li.append(4)\n",
        "    li  # => [1, 2, 3, 4]"
      ]
    },
    {
      "cell_type": "code",
      "execution_count": 9,
      "metadata": {
        "colab": {
          "base_uri": "https://localhost:8080/"
        },
        "id": "aY3ZCgaKtRIO",
        "outputId": "0a081440-ade0-4243-9cf1-2e440c1b102b"
      },
      "outputs": [
        {
          "output_type": "stream",
          "name": "stdout",
          "text": [
            "[1, 2, 3, 'test']\n"
          ]
        }
      ],
      "source": [
        "# Mixing types inside a list object can be a bad idea depending on the situation.\n",
        "# Remove the integer you just inserted in the list and print it\n",
        "bar=l\n",
        "bar=bar[:4]\n",
        "#or bar.remove(4)\n",
        "print(bar)"
      ]
    },
    {
      "cell_type": "code",
      "execution_count": 10,
      "metadata": {
        "colab": {
          "base_uri": "https://localhost:8080/"
        },
        "id": "ZZj4QAb7tRIU",
        "outputId": "813773cd-fbe6-4137-c7bf-35f4385c8aa9"
      },
      "outputs": [
        {
          "output_type": "stream",
          "name": "stdout",
          "text": [
            "2\n"
          ]
        }
      ],
      "source": [
        "# Print the second element of the list\n",
        "print(l[1])"
      ]
    },
    {
      "cell_type": "code",
      "execution_count": 11,
      "metadata": {
        "colab": {
          "base_uri": "https://localhost:8080/"
        },
        "id": "5dq0slhmnBAd",
        "outputId": "79662903-faa4-41a9-c8a4-0f414807ed46"
      },
      "outputs": [
        {
          "output_type": "stream",
          "name": "stdout",
          "text": [
            "42.57\n",
            "42.56\n"
          ]
        }
      ],
      "source": [
        "x = 42.567\n",
        "# Print x with only two decimal (rounding)\n",
        "print(round(x,2))\n",
        "# Print x with only two decimal (trunking)\n",
        "print(float(str(x)[0:5]))"
      ]
    },
    {
      "cell_type": "markdown",
      "metadata": {
        "id": "_RKnEw4KtRIa"
      },
      "source": [
        "You can access list elements in reverse order, e.g.\n",
        "\n",
        "    li[-1]  # returns the last element of the list\n",
        "    li[-2]  # returns the second last element of the list\n",
        "    \n",
        "and so on..."
      ]
    },
    {
      "cell_type": "code",
      "execution_count": 12,
      "metadata": {
        "colab": {
          "base_uri": "https://localhost:8080/"
        },
        "id": "X15yEiSotRId",
        "outputId": "e79b6a7b-8c02-484d-83ae-04be9888d812"
      },
      "outputs": [
        {
          "output_type": "stream",
          "name": "stdout",
          "text": [
            "[1, 2, 3, 'test', 'We', 'are', 'the', 'knights', 'who', 'say', 'Ni', '!']\n"
          ]
        }
      ],
      "source": [
        "# Extend your list with new_list and print it\n",
        "new_list = [\"We\", \"are\", \"the\", \"knights\", \"who\", \"say\", \"Ni\", \"!\"]\n",
        "bar.extend(new_list)\n",
        "print(bar)"
      ]
    },
    {
      "cell_type": "code",
      "execution_count": 13,
      "metadata": {
        "colab": {
          "base_uri": "https://localhost:8080/"
        },
        "id": "i3k7EDdAtRIi",
        "outputId": "4dc4b28c-342c-4cfb-e375-8ee9427c2508"
      },
      "outputs": [
        {
          "output_type": "stream",
          "name": "stdout",
          "text": [
            "[1, 2, 3, 'test', 'We', 'are', 'the', 'knights', 'who', 'say', 'Ekke Ekke Ekke Ekke Ptang Zoo Boing', '!']\n"
          ]
        }
      ],
      "source": [
        "# Replace \"Ni\" by \"Ekke Ekke Ekke Ekke Ptang Zoo Boing\" in the list and print it\n",
        "bar[-2] = 'Ekke Ekke Ekke Ekke Ptang Zoo Boing'\n",
        "print(bar)"
      ]
    },
    {
      "cell_type": "code",
      "execution_count": 14,
      "metadata": {
        "colab": {
          "base_uri": "https://localhost:8080/"
        },
        "id": "2HoKEtETtRIn",
        "outputId": "773abcbc-366d-4ad8-e07c-1ac618f8efc9"
      },
      "outputs": [
        {
          "output_type": "stream",
          "name": "stdout",
          "text": [
            "5\n"
          ]
        }
      ],
      "source": [
        "# Compute the length of the list and print it\n",
        "print(len(l))"
      ]
    },
    {
      "cell_type": "code",
      "execution_count": 15,
      "metadata": {
        "colab": {
          "base_uri": "https://localhost:8080/",
          "height": 37
        },
        "id": "2ZziFC0QtRIt",
        "outputId": "c32dacf7-8db7-4939-9afe-2320e4a56267"
      },
      "outputs": [
        {
          "output_type": "execute_result",
          "data": {
            "application/vnd.google.colaboratory.intrinsic+json": {
              "type": "string"
            },
            "text/plain": [
              "'\\nTuples are immutable objects whereas the lists are mutable.\\n'"
            ]
          },
          "metadata": {},
          "execution_count": 15
        }
      ],
      "source": [
        "# What is the difference between lists and tuples?\n",
        "\"\"\"\n",
        "Tuples are immutable objects whereas the lists are mutable.\n",
        "\"\"\""
      ]
    },
    {
      "cell_type": "code",
      "execution_count": 16,
      "metadata": {
        "colab": {
          "base_uri": "https://localhost:8080/"
        },
        "id": "B2zRHa3atRIx",
        "outputId": "c1ce365c-f3d9-4836-fb12-21cdc0553b4c"
      },
      "outputs": [
        {
          "output_type": "stream",
          "name": "stdout",
          "text": [
            "{'one': 1, 'two': 2, 'three': 3, 'four': 4, 'five': 5}\n"
          ]
        }
      ],
      "source": [
        "# Create a dictionary containing the following mapping:\n",
        "# \"one\" : 1\n",
        "# \"two\" : 2\n",
        "# etc. until you reach \"five\" : 5\n",
        "baz = {\n",
        "  \"one\": 1,\n",
        "  \"two\": 2,\n",
        "  \"three\": 3,\n",
        "  \"four\": 4,\n",
        "  \"five\": 5\n",
        "}\n",
        "print(baz)"
      ]
    },
    {
      "cell_type": "code",
      "source": [
        "baz"
      ],
      "metadata": {
        "id": "G_bpHaDktEm2",
        "colab": {
          "base_uri": "https://localhost:8080/"
        },
        "outputId": "b993fea5-4fe3-46c5-f8a1-3299e8596742"
      },
      "execution_count": 17,
      "outputs": [
        {
          "output_type": "execute_result",
          "data": {
            "text/plain": [
              "{'five': 5, 'four': 4, 'one': 1, 'three': 3, 'two': 2}"
            ]
          },
          "metadata": {},
          "execution_count": 17
        }
      ]
    },
    {
      "cell_type": "code",
      "execution_count": 18,
      "metadata": {
        "colab": {
          "base_uri": "https://localhost:8080/"
        },
        "id": "c_Y6qcpUtRI3",
        "outputId": "23a314e5-cd17-4452-e1fe-d8b52093d45f"
      },
      "outputs": [
        {
          "output_type": "stream",
          "name": "stdout",
          "text": [
            "4\n"
          ]
        }
      ],
      "source": [
        "# Check if the key \"four\" is contained in the dict\n",
        "# If four is contained in the dict, print the associated value\n",
        "if \"four\" in baz:\n",
        "    print(baz[\"four\"])"
      ]
    },
    {
      "cell_type": "code",
      "execution_count": 19,
      "metadata": {
        "colab": {
          "base_uri": "https://localhost:8080/"
        },
        "id": "ECwOx4TJtRI9",
        "outputId": "494c2a98-7806-4bbb-f920-8fee3949ce2e"
      },
      "outputs": [
        {
          "output_type": "stream",
          "name": "stdout",
          "text": [
            "['v', 'p', 'o', 'h', 'n', 'r', 'f', 'e', 'l', 'g', 'i', 'q', 'j', 's', 'u']\n"
          ]
        }
      ],
      "source": [
        "gibberish = list(\"fqfgsrhrfeqluihjgrshioprqoqeionfvnorfiqeo\")\n",
        "# Find all the unique letters contained in gibberish. Your answer should fit in one line of code\n",
        "unique_letters = list((set(gibberish))) \n",
        "print(unique_letters)"
      ]
    },
    {
      "cell_type": "markdown",
      "metadata": {
        "id": "P7yBADultRJC"
      },
      "source": [
        "You should now be able to answer the following problem using dictionaries, lists and sets. Imagine you owe money to your friends because your forgot your credit card last time you went out for drinks. You want to remember how much you owe to each of them in order to refund them later. Which data structure would be useful to store this information? Use this data structure and fill it in with some debt data in the cell below:"
      ]
    },
    {
      "cell_type": "code",
      "execution_count": 20,
      "metadata": {
        "id": "suyHVgJjtRJD"
      },
      "outputs": [],
      "source": [
        "debts = {\n",
        "    \"Hélène\": 2,\n",
        "    \"Claire\": 5\n",
        "}"
      ]
    },
    {
      "cell_type": "markdown",
      "metadata": {
        "id": "mQQSVcCHtRJI"
      },
      "source": [
        "Another party night with more people, yet you forgot your credit card again... You meet new friends who buy you drinks. Create another data structure as above with different data, i.e. include friends that were not here during the first party and new friends."
      ]
    },
    {
      "cell_type": "code",
      "execution_count": 21,
      "metadata": {
        "id": "_cjYLMvEtRJK"
      },
      "outputs": [],
      "source": [
        "debts_2 = {\n",
        "    \"Hélène\": 3,\n",
        "    \"Raquel\": 4,\n",
        "    \"Romane\":2,\n",
        "}"
      ]
    },
    {
      "cell_type": "markdown",
      "metadata": {
        "id": "Li3vPIN7tRJP"
      },
      "source": [
        "Count the number of new friends you made that second night. Print the name of the friends who bought you drinks during the second party, but not during the first."
      ]
    },
    {
      "cell_type": "code",
      "execution_count": 22,
      "metadata": {
        "colab": {
          "base_uri": "https://localhost:8080/"
        },
        "id": "1Rx2ix10tRJQ",
        "outputId": "9879e19a-79de-4500-ce1c-c1ec06350fc1"
      },
      "outputs": [
        {
          "output_type": "stream",
          "name": "stdout",
          "text": [
            "{'Romane', 'Raquel'}\n",
            "2\n"
          ]
        }
      ],
      "source": [
        "new_friends = set(debts_2)-set(debts) # should fit in one line\n",
        "nb_new_friends =  len(new_friends) # should fit in one line\n",
        "print(new_friends)\n",
        "print(nb_new_friends)"
      ]
    },
    {
      "cell_type": "markdown",
      "metadata": {
        "collapsed": true,
        "id": "fRqhthIttRJU"
      },
      "source": [
        "## 3. Control flow\n",
        "Same as before, read the corresponding section, and answer the questions below.\n",
        "You can skip the paragraph on exceptions for now."
      ]
    },
    {
      "cell_type": "code",
      "execution_count": 23,
      "metadata": {
        "colab": {
          "base_uri": "https://localhost:8080/"
        },
        "id": "SZIDKiAntRJW",
        "outputId": "6fcbaf45-8ad9-4f5f-a29f-8754116a7eaa"
      },
      "outputs": [
        {
          "output_type": "stream",
          "name": "stdout",
          "text": [
            "Duh...\n"
          ]
        }
      ],
      "source": [
        "# Code the following:\n",
        "# if you have made more than 5 friends that second night, \n",
        "# print \"Yay! I'm super popular!\", else, print \"Duh...\"\n",
        "if nb_new_friends>5:\n",
        "  print(\"Yay! I'm super popular!\")\n",
        "else: \n",
        "  print(\"Duh...\")"
      ]
    },
    {
      "cell_type": "code",
      "execution_count": 24,
      "metadata": {
        "colab": {
          "base_uri": "https://localhost:8080/"
        },
        "id": "x1KK30CWtRJa",
        "outputId": "8acb3338-0d6a-4982-e012-f098518daca1"
      },
      "outputs": [
        {
          "output_type": "stream",
          "name": "stdout",
          "text": [
            "Thanks Romane!\n",
            "Thanks Raquel!\n"
          ]
        }
      ],
      "source": [
        "# Now, thank each new friend iteratively, i.e.\n",
        "# print \"Thanks <name of the friend>!\" using loops and string formatting (cf. section 1)\n",
        "for i in new_friends:\n",
        "  print('Thanks {}!'.format(i))"
      ]
    },
    {
      "cell_type": "code",
      "execution_count": 25,
      "metadata": {
        "colab": {
          "base_uri": "https://localhost:8080/"
        },
        "id": "iNOfoXTJtRJd",
        "outputId": "e9ac46cc-becc-431c-8840-5bdb7f4aca22"
      },
      "outputs": [
        {
          "output_type": "stream",
          "name": "stdout",
          "text": [
            "105\n"
          ]
        }
      ],
      "source": [
        "# Sum all the number from 0 to 15 (included) using what we've seen so far (i.e. without the function sum() )\n",
        "sum_to_fifteen = 0\n",
        "for i in range(15):\n",
        "  sum_to_fifteen=sum_to_fifteen+i\n",
        "print(sum_to_fifteen)"
      ]
    },
    {
      "cell_type": "code",
      "execution_count": 26,
      "metadata": {
        "colab": {
          "base_uri": "https://localhost:8080/"
        },
        "id": "hNXGkNgitRJh",
        "outputId": "3e998f8e-0e8e-47f3-e71c-d064b8100cdf"
      },
      "outputs": [
        {
          "output_type": "stream",
          "name": "stdout",
          "text": [
            "0\n",
            "1\n",
            "2\n"
          ]
        }
      ],
      "source": [
        "# Note: you can break a loop with the break statement\n",
        "for i in range(136):\n",
        "    print(i)\n",
        "    if i >= 2:\n",
        "        break"
      ]
    },
    {
      "cell_type": "code",
      "execution_count": 27,
      "metadata": {
        "colab": {
          "base_uri": "https://localhost:8080/"
        },
        "id": "1nZB8pMltRJm",
        "outputId": "5309ff06-90a6-45e9-df09-b9c3c76777ef"
      },
      "outputs": [
        {
          "output_type": "stream",
          "name": "stdout",
          "text": [
            "a 0\n",
            "b 1\n",
            "c 2\n"
          ]
        }
      ],
      "source": [
        "# Enumerate function can be very useful when dealing with iterators:\n",
        "for i, value in enumerate([\"a\", \"b\", \"c\"]):\n",
        "    print(value, i)"
      ]
    },
    {
      "cell_type": "markdown",
      "metadata": {
        "id": "rSpPZ8q0tRJq"
      },
      "source": [
        "## 4. Functions\n",
        "Things are becoming more interesting. Read section 4. It's ok if you don't get the args/kwargs part. Be sure to understand basic function declaration and anonymous function declaration. Higher order functions, maps, and filters will be covered during the next lab.\n",
        "\n",
        "Write a Python function that checks whether a passed string is palindrome or not. Note: a palindrome is a word, phrase, or sequence that reads the same backward and forward, e.g. \"madam\" or \"nurses run\". Hint: strings are lists of characters e.g.\n",
        "\n",
        "    a = \"abcdef\"\n",
        "    a[2] => c\n",
        "    \n",
        "If needed, here are [some tips about string manipulation](http://www.pythonforbeginners.com/basics/string-manipulation-in-python)."
      ]
    },
    {
      "cell_type": "code",
      "execution_count": 28,
      "metadata": {
        "colab": {
          "base_uri": "https://localhost:8080/"
        },
        "id": "lSa99mbptRJr",
        "outputId": "4add2dfd-3fdd-4f9b-97de-316a56c99f07"
      },
      "outputs": [
        {
          "output_type": "stream",
          "name": "stdout",
          "text": [
            "True\n",
            "True\n",
            "False\n"
          ]
        }
      ],
      "source": [
        "def isPalindrome(string_input):\n",
        "  return string_input.replace(\" \",\"\")==string_input[::-1].replace(\" \",\"\")\n",
        "\n",
        "print(isPalindrome('aza'))        # Simple palindrome\n",
        "print(isPalindrome('nurses run')) # Palindrome containing a space\n",
        "print(isPalindrome('palindrome')) # Not a palindrome"
      ]
    },
    {
      "cell_type": "markdown",
      "metadata": {
        "id": "zB9qsMDJtRJv"
      },
      "source": [
        "Write a Python function to check whether a string is pangram or not. Note: pangrams are words or sentences containing every letter of the alphabet at least once. For example: \"The quick brown fox jumps over the lazy dog\".\n",
        "\n",
        "[Hint](https://docs.python.org/2/library/stdtypes.html#set-types-set-frozenset)"
      ]
    },
    {
      "cell_type": "code",
      "execution_count": 29,
      "metadata": {
        "colab": {
          "base_uri": "https://localhost:8080/"
        },
        "id": "klw8o3FDtRJx",
        "outputId": "e0c9d44d-df7c-4d59-86b5-de4438fcf1b9"
      },
      "outputs": [
        {
          "output_type": "stream",
          "name": "stdout",
          "text": [
            "True\n",
            "False\n"
          ]
        }
      ],
      "source": [
        "import string\n",
        "\n",
        "# In this function, \"alphabet\" argument has a default value: string.ascii_lowercase\n",
        "# string.ascii_lowercase contains all the letters in lowercase.\n",
        "def ispangram(string_input, alphabet=string.ascii_lowercase): \n",
        "  for char in alphabet:\n",
        "    if char not in string_input.lower():\n",
        "      return False\n",
        "  return True \n",
        "   \n",
        "print(ispangram('The quick brown fox jumps over the lazy dog'))\n",
        "print(ispangram('The quick red fox jumps over the lazy dog'))"
      ]
    },
    {
      "cell_type": "markdown",
      "metadata": {
        "collapsed": true,
        "id": "hIXo-hJ_tRJ0"
      },
      "source": [
        "### Python lambda expressions\n",
        "\n",
        "When evaluated, lambda expressions return an anonymous function, i.e. a function that is not bound to any variable (hence the \"anonymous\"). However, it is possible to assign the function to a variable. Lambda expressions are particularly useful when you need to pass a simple function into another function. To create lambda functions, we use the following syntax\n",
        "\n",
        "    lambda argument1, argument2, argument3, etc. : body_of_the_function\n",
        "\n",
        "For example, a function which takes a number and returns its square would be\n",
        "\n",
        "    lambda x: x**2\n",
        "    \n",
        "A function that takes two numbers and returns their sum:\n",
        "\n",
        "    lambda x, y: x + y\n",
        "    \n",
        "`lambda` generates a function and returns it, while `def` generates a function and assigns it to a name.  The function returned by `lambda` also automatically returns the value of its expression statement, which reduces the amount of code that needs to be written.\n",
        "\n",
        "Here are some additional references that explain lambdas: [Lambda Functions](http://www.secnetix.de/olli/Python/lambda_functions.hawk), [Lambda Tutorial](https://pythonconquerstheuniverse.wordpress.com/2011/08/29/lambda_tutorial/), and [Python Functions](http://www.bogotobogo.com/python/python_functions_lambda.php).\n",
        "\n",
        "Here is an example:"
      ]
    },
    {
      "cell_type": "code",
      "execution_count": 30,
      "metadata": {
        "colab": {
          "base_uri": "https://localhost:8080/"
        },
        "id": "Qag42QL7tRJ1",
        "outputId": "d5c5ff4d-1977-41cf-d7c0-40e08f089fc4"
      },
      "outputs": [
        {
          "output_type": "stream",
          "name": "stdout",
          "text": [
            "<class 'function'>\n",
            "<function add_s at 0x7f77a246b4d0>\n",
            "dogs\n"
          ]
        }
      ],
      "source": [
        "# Function declaration using def\n",
        "def add_s(x):\n",
        "    return x + 's'\n",
        "\n",
        "print(type(add_s))\n",
        "print(add_s)\n",
        "print(add_s('dog'))"
      ]
    },
    {
      "cell_type": "code",
      "execution_count": 31,
      "metadata": {
        "colab": {
          "base_uri": "https://localhost:8080/"
        },
        "id": "6MVqBJDXtRJ4",
        "outputId": "2b370ebb-4e40-4877-d881-30338079fa87"
      },
      "outputs": [
        {
          "output_type": "stream",
          "name": "stdout",
          "text": [
            "<class 'function'>\n",
            "<function <lambda> at 0x7f77a246b290>\n",
            "dogs\n"
          ]
        }
      ],
      "source": [
        "# Same function declared as a lambda\n",
        "add_s_lambda = lambda x: x + 's'\n",
        "print(type(add_s_lambda))\n",
        "print(add_s_lambda)  # Note that the function shows its name as <lambda>\n",
        "print(add_s_lambda('dog'))"
      ]
    },
    {
      "cell_type": "code",
      "execution_count": 32,
      "metadata": {
        "colab": {
          "base_uri": "https://localhost:8080/"
        },
        "id": "mOp4Ju79tRJ8",
        "outputId": "a4906718-3211-4b48-efc6-c3b96d436d13"
      },
      "outputs": [
        {
          "output_type": "stream",
          "name": "stdout",
          "text": [
            "10\n",
            "True\n"
          ]
        }
      ],
      "source": [
        "# Code a function using a lambda expression which takes\n",
        "# a number and returns this number multiplied by two.\n",
        "multiply_by_two = lambda x: x*2\n",
        "print(multiply_by_two(5))\n",
        "\n",
        "print(multiply_by_two(10) == 20)"
      ]
    },
    {
      "cell_type": "markdown",
      "metadata": {
        "id": "nJlViCP6tRKI"
      },
      "source": [
        "Observe the behavior of the following code:"
      ]
    },
    {
      "cell_type": "code",
      "execution_count": 33,
      "metadata": {
        "colab": {
          "base_uri": "https://localhost:8080/"
        },
        "id": "BaBVXHRftRKJ",
        "outputId": "c6d8f250-6f33-430f-90b2-82b0a9f774d9"
      },
      "outputs": [
        {
          "output_type": "stream",
          "name": "stdout",
          "text": [
            "3\n",
            "-1\n"
          ]
        }
      ],
      "source": [
        "def add(x, y):\n",
        "    \"\"\"Add two values\"\"\"\n",
        "    return x+y\n",
        "\n",
        "def sub(x, y):\n",
        "    \"\"\"Substract y from x\"\"\"\n",
        "    return x-y\n",
        "\n",
        "functions = [add, sub]\n",
        "print(functions[0](1, 2))\n",
        "print(functions[1](3, 4))"
      ]
    },
    {
      "cell_type": "markdown",
      "metadata": {
        "id": "3ULfcjzvtRKM"
      },
      "source": [
        "Code the same functionality, using lambda expressions:"
      ]
    },
    {
      "cell_type": "code",
      "execution_count": 34,
      "metadata": {
        "colab": {
          "base_uri": "https://localhost:8080/"
        },
        "id": "kyrrjXjptRKN",
        "outputId": "b83850b9-4938-4cd6-d195-81111d7eb9e3"
      },
      "outputs": [
        {
          "output_type": "stream",
          "name": "stdout",
          "text": [
            "True\n",
            "True\n"
          ]
        }
      ],
      "source": [
        "lambda_functions = [lambda x,y: x+y ,  lambda x,y: x-y]\n",
        "\n",
        "print(lambda_functions[0](1, 2) == 3)\n",
        "print(lambda_functions[1](3, 4) == -1)"
      ]
    },
    {
      "cell_type": "markdown",
      "metadata": {
        "id": "ED1XVrZxtRKR"
      },
      "source": [
        "Lambda expressions can be used to generate functions that take in zero or more parameters. The syntax for `lambda` allows for multiple ways to define the same function.  For example, we might want to create a function that takes in a single parameter, where the parameter is a tuple consisting of two values, and the function adds the two values.  The syntax could be either \n",
        "\n",
        "    lambda x: x[0] + x[1]\n",
        "    \n",
        "or \n",
        "    \n",
        "    lambda (x, y): x + y\n",
        "\n",
        "If we called either function on the tuple `(1, 2)` it would return `3`."
      ]
    },
    {
      "cell_type": "code",
      "execution_count": 35,
      "metadata": {
        "colab": {
          "base_uri": "https://localhost:8080/"
        },
        "id": "pHNpszmanBA7",
        "outputId": "e7c1e219-1b98-4d4f-fcc6-134af3112ecf"
      },
      "outputs": [
        {
          "output_type": "stream",
          "name": "stdout",
          "text": [
            "add_two_1((1,2), (3,4)) = (4, 6)\n",
            "add_two_2((1,2), (3,4)) = (4, 6)\n"
          ]
        }
      ],
      "source": [
        "# Example:\n",
        "add_two_1 = lambda x, y: (x[0] + y[0], x[1] + y[1])\n",
        "add_two_2 = lambda x0, x1, y0, y1: (x0 + y0, x1 + y1)\n",
        "print('add_two_1((1,2), (3,4)) = {0}'.format(add_two_1((1,2), (3,4))))\n",
        "print('add_two_2((1,2), (3,4)) = {0}'.format(add_two_2(1,2,3,4)))"
      ]
    },
    {
      "cell_type": "code",
      "execution_count": 36,
      "metadata": {
        "colab": {
          "base_uri": "https://localhost:8080/"
        },
        "id": "GDn7Z7dstRKV",
        "outputId": "6caeffe6-da29-4728-8d5b-789f77178c4a"
      },
      "outputs": [
        {
          "output_type": "stream",
          "name": "stdout",
          "text": [
            "True\n",
            "True\n"
          ]
        }
      ],
      "source": [
        "# Use both syntaxes to create a function that takes in a tuple of three values and reverses their order\n",
        "# E.g. (1, 2, 3) => (3, 2, 1)\n",
        "reverse1 = lambda x: (x[2],x[1],x[0])\n",
        "reverse2 = lambda x0, x1, x2: (x2,x1,x0)\n",
        "\n",
        "print(reverse1((1, 2, 3)) == (3, 2, 1))\n",
        "print(reverse2(1, 2, 3) == (3, 2, 1))"
      ]
    },
    {
      "cell_type": "markdown",
      "metadata": {
        "id": "GuRsJH2btRKY"
      },
      "source": [
        "Lambda expressions allow you to reduce the size of your code, but they are limited to simple logic. The following Python keywords refer to statements that cannot be used in a lambda expression: `assert`, `pass`, `del`, `print`, `return`, `yield`, `raise`, `break`, `continue`, `import`, `global`, and `exec`.  Assignment statements (`=`) and augmented assignment statements (e.g. `+=`) cannot be used either. If more complex logic is necessary, use `def` in place of `lambda`."
      ]
    },
    {
      "cell_type": "markdown",
      "metadata": {
        "id": "C8oYTUJDtRKZ"
      },
      "source": [
        "## 5. Classes\n",
        "Classes allow you to create objects. Object Oriented Programming (OOP) can be a very powerful paradigm. If done well, OOP  allows you to improve the modularity and reusability of your code, but that's the subject of an entire other course. \n",
        "Here is a *very* short introduction to it.\n",
        "\n",
        "By convention, class names are written in camel case, e.g. `MyBeautifulClass`, while variable and function names are written in snake case, e.g. `my_variable`, `my_very_complex_function`\n",
        "\n",
        "Classes contain methods (i.e. functions owned by the class) and attributes (i.e. variables owned by the class). \n",
        "When you define a class, first thing to do is to define a specific method, the constructor. In Python, the constructor is called `__init__`. This method is used to create the instances of an object. Example:\n",
        "\n",
        "    class MyClass:\n",
        "    \n",
        "        def __init__(self, first_attribute, second_attribute):\n",
        "            self.first_attribute = first_attribute\n",
        "            self.second_attribute = second_attribute\n",
        "            \n",
        "This class has two attributes, and one (hidden) method, the constructor. To create an instance of this class, one simply does:\n",
        "\n",
        "    instance_example = MyClass(1, \"foo\")\n",
        "    \n",
        "Then, the attributes can easily be accessed to:\n",
        "\n",
        "    instance_example.first_attribute  # => 1\n",
        "    instance_example.first_attribute  # => \"foo\""
      ]
    },
    {
      "cell_type": "code",
      "execution_count": 37,
      "metadata": {
        "colab": {
          "base_uri": "https://localhost:8080/"
        },
        "id": "keBR9vgQtRKc",
        "outputId": "b701fef2-d246-4dc6-ff51-00657ac4858c"
      },
      "outputs": [
        {
          "output_type": "stream",
          "name": "stdout",
          "text": [
            "1\n",
            "3\n"
          ]
        }
      ],
      "source": [
        "# Run this example\n",
        "class MyClass:\n",
        "    \n",
        "    def __init__(self, first_attribute, second_attribute):\n",
        "        self.first_attribute = first_attribute\n",
        "        self.second_attribute = second_attribute\n",
        "            \n",
        "instance_example = MyClass(1, \"foo\") \n",
        "print(instance_example.first_attribute)\n",
        "instance_example.__init__(3,4)  # In real life, it is rare to reinit an object.\n",
        "print(instance_example.first_attribute)"
      ]
    },
    {
      "cell_type": "markdown",
      "metadata": {
        "id": "8AO18Rz7tRKf"
      },
      "source": [
        "`self` denotes the object itself. When you declare a method, you have to pass `self` as the first argument of the method:\n",
        "\n",
        "class MyClass:\n",
        "    \n",
        "    def __init__(self, first_attribute, second_attribute):\n",
        "        self.first_attribute = first_attribute\n",
        "        self.second_attribute = second_attribute\n",
        "   \n",
        "    def method_baz(self):\n",
        "        print \"Hello! I'm a method! I have two attributes, initialized with values %s, %s\"%(self.first_attribute, self.second_attribute)\n",
        "        \n",
        "indeed, when we call\n",
        "    \n",
        "    instance_example = MyClass(1, \"foo\") \n",
        "    instance_example.method_baz()\n",
        "    \n",
        "the `self` object is implicitely passed to `method_baz`as an argument. Think of the method call as the following function call\n",
        "\n",
        "    method_baz(instance_example)"
      ]
    },
    {
      "cell_type": "code",
      "execution_count": 38,
      "metadata": {
        "colab": {
          "base_uri": "https://localhost:8080/"
        },
        "id": "oZde0pPntRKg",
        "outputId": "566f1606-7d08-450a-8659-07e307fe9f64"
      },
      "outputs": [
        {
          "output_type": "stream",
          "name": "stdout",
          "text": [
            "Hello! I'm a method! My class has two attributes, of value 1, foo\n"
          ]
        }
      ],
      "source": [
        "# Run this example\n",
        "class MyClass:\n",
        "    \n",
        "    def __init__(self, first_attribute, second_attribute):\n",
        "        self.first_attribute = first_attribute\n",
        "        self.second_attribute = second_attribute\n",
        "    \n",
        "    def class_method(self):\n",
        "        print(\"Hello! I'm a method! My class has two attributes, of value {0}, {1}\".format(self.first_attribute, self.second_attribute))\n",
        "            \n",
        "instance_example = MyClass(1, \"foo\") \n",
        "# Call to a class method\n",
        "instance_example.class_method()"
      ]
    },
    {
      "cell_type": "markdown",
      "metadata": {
        "id": "fLUmPnKntRKo"
      },
      "source": [
        "Now, the tricky part. You can declare **static** methods, i.e. methods that don't need to access the data contained in `self` to work properly. Such methods do not require the `self` argument as they do not use any instance data. They are implemented in the following way:"
      ]
    },
    {
      "cell_type": "code",
      "execution_count": 39,
      "metadata": {
        "colab": {
          "base_uri": "https://localhost:8080/"
        },
        "id": "ZfkEAQbGtRKp",
        "outputId": "b8fadfae-746b-4916-a5b7-4c1b8c838806"
      },
      "outputs": [
        {
          "output_type": "stream",
          "name": "stdout",
          "text": [
            "Hello! I'm a method! My class has two attributes, of value 1, foo\n",
            "I'm a static method!\n"
          ]
        }
      ],
      "source": [
        "# Run this example\n",
        "class MyClass:\n",
        "    \n",
        "    def __init__(self, first_attribute, second_attribute):\n",
        "        self.first_attribute = first_attribute\n",
        "        self.second_attribute = second_attribute\n",
        "    \n",
        "    def class_method(self):\n",
        "        print(\"Hello! I'm a method! My class has two attributes, of value {0}, {1}\".format(self.first_attribute, self.second_attribute))\n",
        "         \n",
        "    @staticmethod\n",
        "    def static_method():\n",
        "        print(\"I'm a static method!\")\n",
        "            \n",
        "instance_example = MyClass(1, \"foo\") \n",
        "# Call to a class method\n",
        "instance_example.class_method()\n",
        "# Call to a static method\n",
        "instance_example.static_method()"
      ]
    },
    {
      "cell_type": "code",
      "execution_count": 40,
      "metadata": {
        "colab": {
          "base_uri": "https://localhost:8080/"
        },
        "id": "kjsCfutptRKu",
        "outputId": "10b69104-a608-4572-9011-06edbbeeac91"
      },
      "outputs": [
        {
          "output_type": "stream",
          "name": "stdout",
          "text": [
            "I'm a static method!\n"
          ]
        }
      ],
      "source": [
        "# Call to a static method without class instanciation\n",
        "MyClass.static_method()"
      ]
    },
    {
      "cell_type": "code",
      "execution_count": 41,
      "metadata": {
        "id": "WjIceCletRKy"
      },
      "outputs": [],
      "source": [
        "# Call to a class method without class instanciation: raises an error\n",
        "# MyClass.class_method()\n",
        "# => TypeError: unbound method class_method() must be called with MyClass instance as first argument (got nothing instead)"
      ]
    },
    {
      "cell_type": "markdown",
      "metadata": {
        "id": "WrGtoiEptRK1"
      },
      "source": [
        "You can set attributes without passing them to the constructor:"
      ]
    },
    {
      "cell_type": "code",
      "execution_count": 42,
      "metadata": {
        "colab": {
          "base_uri": "https://localhost:8080/"
        },
        "id": "1EtLi3gRtRK2",
        "outputId": "fc9f2ed7-6c43-4082-d628-5ef2e30e740b"
      },
      "outputs": [
        {
          "output_type": "stream",
          "name": "stdout",
          "text": [
            "42\n"
          ]
        }
      ],
      "source": [
        "# Run this example\n",
        "class MyClass:\n",
        "    \n",
        "    default_attribute = 42\n",
        "    \n",
        "    def __init__(self, first_attribute, second_attribute):\n",
        "        self.first_attribute = first_attribute\n",
        "        self.second_attribute = second_attribute\n",
        "    \n",
        "    def method_baz(self):\n",
        "        print(\"Hello! I'm a method! I have two attributes, initialized with values %s, %s\"%(self.first_attribute, self.second_attribute))\n",
        "        \n",
        "    @staticmethod\n",
        "    def static_method():\n",
        "        print(\"I'm a static method!\")\n",
        "            \n",
        "instance_example = MyClass(1, \"foo\") \n",
        "print(instance_example.default_attribute)"
      ]
    },
    {
      "cell_type": "code",
      "execution_count": 43,
      "metadata": {
        "colab": {
          "base_uri": "https://localhost:8080/"
        },
        "id": "9f2LfrfEtRK6",
        "outputId": "d27cad76-3430-4415-a003-f121b39018b1"
      },
      "outputs": [
        {
          "output_type": "stream",
          "name": "stdout",
          "text": [
            "True\n",
            "True\n",
            "True\n",
            "True\n"
          ]
        }
      ],
      "source": [
        "# Write a Python class named Rectangle which is \n",
        "# constructed by a length and width \n",
        "# and has two class methods\n",
        "# - \"rectange_area\", which computes the area of a rectangle.\n",
        "# - \"rectangle_perimeter\", which computes the perimeter of a rectangle.\n",
        "#\n",
        "# The Rectangle class should have an attribute n_edges equal to 4\n",
        "# which should not be initialized by the __init__ constructor.\n",
        "#\n",
        "# Declare a static method \"talk\" that returns \"Do you like rectangles?\" when called\n",
        "\n",
        "class Rectangle: \n",
        "    \n",
        "    n_edges = 4\n",
        "\n",
        "    def __init__(self, length, width):\n",
        "        self.length = length\n",
        "        self.width = width\n",
        "    \n",
        "    def rectangle_area(self):\n",
        "        return self.length * self.width\n",
        "\n",
        "    def rectangle_perimeter(self):\n",
        "        return self.length * 2 + self.width * 2\n",
        "        \n",
        "    @staticmethod\n",
        "    def talk():\n",
        "        return \"Do you like rectangles?\"\n",
        "\n",
        "\n",
        "new_rectangle = Rectangle(12, 10)\n",
        "print(new_rectangle.rectangle_area() == 120)# rectangle_area method\n",
        "print(new_rectangle.rectangle_perimeter() == 44) # rectangle_area method\n",
        "print(Rectangle.n_edges == 4) # Constant attibute\n",
        "print(Rectangle.talk() == \"Do you like rectangles?\") # Rectangle talk static method"
      ]
    },
    {
      "cell_type": "markdown",
      "metadata": {
        "id": "3JpIwkAonBBb"
      },
      "source": [
        "In machine learning, when you're manipulating large images, you often need to break the diwn into smaller, more manageable images.\n",
        "- Modify the previous rectangle class to include a list of patches.\n",
        "- Write a Python class named Patch which is a square of size 1x1. Each patch should be identified by his coordinates.\n",
        "- Use the [\\_\\_iter\\_\\_](https://www.datacamp.com/community/tutorials/python-iterator-tutorial) function to create a get_next_patch() in the Rectangle class."
      ]
    },
    {
      "cell_type": "code",
      "source": [
        "from matplotlib.patches import Rectangle\n",
        "import matplotlib.pyplot as plt\n",
        "import matplotlib\n",
        "import numpy as np"
      ],
      "metadata": {
        "id": "GJUc0ag-B8K_"
      },
      "execution_count": 44,
      "outputs": []
    },
    {
      "cell_type": "code",
      "source": [
        "class Rectangle: \n",
        "    \n",
        "    def __init__(self, length, width, coordx1, coordy1,):\n",
        "        self.length = length\n",
        "        self.width = width\n",
        "        self.coordx1 = coordx1\n",
        "        self.coordy1 = coordy1\n",
        "\n",
        "    def rectangle_area(self):\n",
        "        return self.length * self.width\n",
        "\n",
        "    def rectangle_perimeter(self):\n",
        "        return self.length * 2 + self.width * 2\n",
        "\n",
        "    def rectangle_patches(self):\n",
        "        return matplotlib.patches.Rectangle((self.coordx1, self.coordy1),\n",
        "                                     self.length, self.width)\n",
        "        \n",
        "new_rectangle = Rectangle(12, 10, 0, 0)\n",
        "\n",
        "print(new_rectangle.rectangle_patches())"
      ],
      "metadata": {
        "colab": {
          "base_uri": "https://localhost:8080/"
        },
        "id": "Ma0cEn37A-ul",
        "outputId": "5cde2dc6-3a08-4e0c-9321-59e2c4615096"
      },
      "execution_count": 45,
      "outputs": [
        {
          "output_type": "stream",
          "name": "stdout",
          "text": [
            "Rectangle(xy=(0, 0), width=12, height=10, angle=0)\n"
          ]
        }
      ]
    },
    {
      "cell_type": "code",
      "source": [
        "class Patch :\n",
        "\n",
        "    def __init__(self, length, width, coordx1, coordy1):\n",
        "\n",
        "        self.length = length\n",
        "        self.width = width\n",
        "        self.coordx1 = coordx1\n",
        "        self.coordy1 = coordy1\n",
        "\n",
        "    def get_patches(self):\n",
        "\n",
        "      rect = Rectangle(self.length, self.width, self.coordx1, self.coordy1).rectangle_patches()\n",
        "      \n",
        "      ax.add_patch(rect)\n",
        "\n",
        "      coords = []\n",
        "\n",
        "      for i in range(self.width): \n",
        "        for j in range(self.length):\n",
        "          coords.append(np.array([[rect.get_x()+j, rect.get_y()+i]]))\n",
        "      \n",
        "      return coords "
      ],
      "metadata": {
        "id": "T5tTz85V0IZo"
      },
      "execution_count": 46,
      "outputs": []
    },
    {
      "cell_type": "code",
      "source": [
        "rectangle = Patch(2,5,0,0)"
      ],
      "metadata": {
        "id": "MsriW5Jk9TWs"
      },
      "execution_count": 47,
      "outputs": []
    },
    {
      "cell_type": "code",
      "source": [
        "fig = plt.figure()\n",
        "ax = fig.add_subplot()\n",
        "\n",
        "for patch in range(len(rectangle.get_patches())):\n",
        "\n",
        "  x=rectangle.get_patches()[patch][0][0]\n",
        "  y=rectangle.get_patches()[patch][0][1]\n",
        "  \n",
        "  ax.add_patch(matplotlib.patches.Rectangle((x, y), 1, 1))\n",
        "\n",
        "plt.xlim([0, 10])\n",
        "plt.ylim([0, 10])\n",
        "\n",
        "plt.show()\n",
        "# Should print all the patches in your rectangle"
      ],
      "metadata": {
        "colab": {
          "base_uri": "https://localhost:8080/",
          "height": 269
        },
        "id": "-bgEUfvn0XPP",
        "outputId": "5483940e-3132-4096-f1d2-ef922cda46ae"
      },
      "execution_count": 48,
      "outputs": [
        {
          "output_type": "display_data",
          "data": {
            "image/png": "[encoded data removed]",
            "text/plain": [
              "<Figure size 432x288 with 1 Axes>"
            ]
          },
          "metadata": {
            "needs_background": "light"
          }
        }
      ]
    },
    {
      "cell_type": "code",
      "execution_count": 49,
      "metadata": {
        "id": "zLo1690Jw0au"
      },
      "outputs": [],
      "source": [
        "#Use the same approach to create two classes :\n",
        "#- Sentence which is a list of words\n",
        "#- Word which encapsulate a string with a specific order within the sentence\n",
        "#Implement both [\\_\\_str\\_\\_](https://docs.python.org/3/reference/datamodel.html?highlight=__str__#object.__str__) and [\\_\\_repr\\_\\_](https://docs.python.org/3/reference/datamodel.html?highlight=__str__#object.__repr__) for both classes. `__str__` should be readable when `__repr__` should offer you information to helps you debug.\n",
        "#In Natural Language Processing you'll use a lot of n-grams (which is the set of *n* sequential words). So you should implement a get_next_bigrams() method in the Sentence class. For instance give the sentence \"My name is Brian\", it should return an element of the list of bigrams ```[\"My name\", \"name is\", \"is Brian\"]```"
      ]
    },
    {
      "cell_type": "code",
      "execution_count": 50,
      "metadata": {
        "id": "oN8mrarqnBBe"
      },
      "outputs": [],
      "source": [
        "class Sentence :\n",
        "\n",
        "    def __init__(self, text):\n",
        "      self.text = text\n",
        "\n",
        "    def __str__(self):\n",
        "      self.text = str(self.text)\n",
        "\n",
        "    def get_next_bigrams(self):\n",
        "      return str([(x, i.split()[j + 1]) for i in [self.text]\n",
        "       for j, x in enumerate(i.split()) if j < len(i.split()) - 1])"
      ]
    },
    {
      "cell_type": "code",
      "source": [
        "Sentence('My name is Brian').get_next_bigrams()"
      ],
      "metadata": {
        "colab": {
          "base_uri": "https://localhost:8080/",
          "height": 37
        },
        "id": "zYRbN1UCAHUa",
        "outputId": "cd6854a6-0d8b-42c0-85c0-401f9bbb2ba6"
      },
      "execution_count": 51,
      "outputs": [
        {
          "output_type": "execute_result",
          "data": {
            "application/vnd.google.colaboratory.intrinsic+json": {
              "type": "string"
            },
            "text/plain": [
              "\"[('My', 'name'), ('name', 'is'), ('is', 'Brian')]\""
            ]
          },
          "metadata": {},
          "execution_count": 51
        }
      ]
    },
    {
      "cell_type": "code",
      "source": [
        "class Word : \n",
        "\n",
        "  def __init__(self, text, n):\n",
        "      self.text = text\n",
        "      self.n = n\n",
        "\n",
        "  def __str__(self):\n",
        "      self.text = str(self.text)\n",
        "\n",
        "  def get_word(self):\n",
        "      return self.text.split()[self.n]"
      ],
      "metadata": {
        "id": "XiWN00trC-ah"
      },
      "execution_count": 52,
      "outputs": []
    },
    {
      "cell_type": "code",
      "source": [
        "Word('My name is Brian', 2).get_word()"
      ],
      "metadata": {
        "colab": {
          "base_uri": "https://localhost:8080/",
          "height": 37
        },
        "id": "qCeB_LJIEEsP",
        "outputId": "f45de628-6294-4ce4-f292-c5687e808062"
      },
      "execution_count": 53,
      "outputs": [
        {
          "output_type": "execute_result",
          "data": {
            "application/vnd.google.colaboratory.intrinsic+json": {
              "type": "string"
            },
            "text/plain": [
              "'is'"
            ]
          },
          "metadata": {},
          "execution_count": 53
        }
      ]
    },
    {
      "cell_type": "code",
      "execution_count": 54,
      "metadata": {
        "id": "9ZJc_Iu_tRLC"
      },
      "outputs": [],
      "source": [
        "# 6. Modules\n",
        "#Finally one really important part of python is the ability to create modules.\n",
        "#Read https://docs.python.org/fr/3/tutorial/modules.html and create a module named geo with the classes Rectangle & Patch.\n",
        "#Import the ```geo``` module and demonstrate the different calls.\n",
        "\n",
        "#Repeat the operation with an ```NLP``` module to encapsulate the classes Sentence and Word.\n",
        "#In Natural Language Processing you'll use a lot of n-grams (which is the set of *n* sequential words). So you should implement a ```get_bigrams(sentence)``` method who will return a list of bigrams."
      ]
    },
    {
      "cell_type": "code",
      "source": [
        "import module1"
      ],
      "metadata": {
        "id": "irX-OT-4IwaZ"
      },
      "execution_count": 55,
      "outputs": []
    },
    {
      "cell_type": "code",
      "source": [
        "rectangle = module1.Rectangle(5,2,0,0)\n",
        "patch = module1.Patch(5,2,0,0)"
      ],
      "metadata": {
        "id": "_TYpVV_iI20v"
      },
      "execution_count": 56,
      "outputs": []
    },
    {
      "cell_type": "code",
      "source": [
        "rectangle.rectangle_perimeter()"
      ],
      "metadata": {
        "colab": {
          "base_uri": "https://localhost:8080/"
        },
        "id": "BpPn0U4mJCnH",
        "outputId": "9456d714-f908-40e5-c378-a7defeabbda5"
      },
      "execution_count": 57,
      "outputs": [
        {
          "output_type": "execute_result",
          "data": {
            "text/plain": [
              "14"
            ]
          },
          "metadata": {},
          "execution_count": 57
        }
      ]
    },
    {
      "cell_type": "code",
      "execution_count": 58,
      "metadata": {
        "id": "4CGss5cDnBBg",
        "colab": {
          "base_uri": "https://localhost:8080/",
          "height": 37
        },
        "outputId": "a94b4248-bfcf-4943-c0e1-b49a9bb14922"
      },
      "outputs": [
        {
          "output_type": "execute_result",
          "data": {
            "application/vnd.google.colaboratory.intrinsic+json": {
              "type": "string"
            },
            "text/plain": [
              "\"[('My', 'name'), ('name', 'is'), ('is', 'Brian')]\""
            ]
          },
          "metadata": {},
          "execution_count": 58
        }
      ],
      "source": [
        "import module2\n",
        "\n",
        "test_sentence = Sentence(\"My name is Brian\")\n",
        "test_sentence.get_next_bigrams()"
      ]
    },
    {
      "cell_type": "markdown",
      "metadata": {
        "id": "qd-u-n6wnBBh"
      },
      "source": [
        "# 7. Coding style\n",
        "\n",
        "You'll often ask yourself about which letters should be capital or if you should use _ or other characters.\n",
        "\n",
        "To help you decide, python comes with PEP-8 which is a set of recommandation.\n",
        "\n",
        "It is highly advised to read PEP-8 and to apply the rules whenever it's applicable.\n",
        "\n",
        "You'll get point for style in your code (I mean, you will lose points if the code is not readable).\n",
        "\n",
        "Fortunately, [the rules of PEP-8 are not perfect and should not always be followed](https://www.youtube.com/watch?v=wf-BqAjZb8M)."
      ]
    },
    {
      "cell_type": "code",
      "execution_count": 59,
      "metadata": {
        "id": "ry9mAlXLnBBh"
      },
      "outputs": [],
      "source": [
        "# You should create a github account before the next session :\n",
        "#student_1_github_login = mariephlpp\n",
        "#student_2_github_login = claire31srz"
      ]
    },
    {
      "cell_type": "markdown",
      "metadata": {
        "id": "m5UTrCzjtRLF"
      },
      "source": [
        "Congratulations, you've reched the end of this notebook. =)"
      ]
    }
  ]
}